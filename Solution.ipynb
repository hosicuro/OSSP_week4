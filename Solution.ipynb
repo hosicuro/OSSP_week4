{
  "nbformat": 4,
  "nbformat_minor": 0,
  "metadata": {
    "colab": {
      "provenance": []
    },
    "kernelspec": {
      "name": "python3",
      "display_name": "Python 3"
    },
    "language_info": {
      "name": "python"
    }
  },
  "cells": [
    {
      "cell_type": "markdown",
      "source": [
        "## Task \n",
        "- Complete **rotateString** function following the description below\n",
        "\n",
        "### Rotate String\n",
        "Given two strings **s** and **goal**, return **true** *if and only if* **s** can become **goal** after some number of shifts on **s**.\n",
        "\n",
        "A shift on **s** consists of moving the leftmost character of **s** to the rightmost position.\n",
        "\n",
        "- For example, if **s = \"abcde\"**, then it will be **\"bcdea\"** after one shift."
      ],
      "metadata": {
        "id": "TV3Socqg8BVl"
      }
    },
    {
      "cell_type": "code",
      "execution_count": null,
      "metadata": {
        "id": "5FcxitVf5kdQ"
      },
      "outputs": [],
      "source": [
        "def rotateString(s, goal):\n",
        "  b = s\n",
        "  while s != goal:\n",
        "    l = list(s)\n",
        "    char = l[0]\n",
        "    l[0:4] = l[1:5]\n",
        "    l[4] = char\n",
        "    s = \"\"\n",
        "    for y in l:\n",
        "      s += y\n",
        "    if s == b:\n",
        "      break\n",
        "  if s == goal:\n",
        "    return True\n",
        "  else:\n",
        "    return False"
      ]
    },
    {
      "cell_type": "code",
      "source": [
        "'''\n",
        "Testcase 1. \n",
        "Input: s = \"abcde\", goal = \"cdeab\"\n",
        "Output: True\n",
        "'''\n",
        "rotateString(\"abcde\", \"cdeab\")"
      ],
      "metadata": {
        "id": "iGtv8pRU59yu",
        "colab": {
          "base_uri": "https://localhost:8080/"
        },
        "outputId": "70a1cc9c-9362-44ea-eaea-676a4f194c31"
      },
      "execution_count": null,
      "outputs": [
        {
          "output_type": "execute_result",
          "data": {
            "text/plain": [
              "True"
            ]
          },
          "metadata": {},
          "execution_count": 53
        }
      ]
    },
    {
      "cell_type": "code",
      "source": [
        "'''\n",
        "Testcase 2. \n",
        "Input: s = \"abcde\", goal = \"abced\"\n",
        "Output: False\n",
        "'''\n",
        "rotateString(\"abcde\", \"abced\")"
      ],
      "metadata": {
        "id": "c_igv9cg6Jb0",
        "colab": {
          "base_uri": "https://localhost:8080/"
        },
        "outputId": "9704c4f2-d039-49ce-9d24-55ed7a02a8d6"
      },
      "execution_count": null,
      "outputs": [
        {
          "output_type": "execute_result",
          "data": {
            "text/plain": [
              "False"
            ]
          },
          "metadata": {},
          "execution_count": 54
        }
      ]
    },
    {
      "cell_type": "code",
      "source": [
        "'''\n",
        "Testcase 3. \n",
        "Input: s = \"abcde\", goal = \"abcde\"\n",
        "Output: True\n",
        "'''\n",
        "rotateString(\"abcde\", \"abcde\")"
      ],
      "metadata": {
        "id": "gzATcpEZ6P67",
        "colab": {
          "base_uri": "https://localhost:8080/"
        },
        "outputId": "9f7da751-0355-46e8-b998-e6af254fd9ef"
      },
      "execution_count": null,
      "outputs": [
        {
          "output_type": "execute_result",
          "data": {
            "text/plain": [
              "True"
            ]
          },
          "metadata": {},
          "execution_count": 55
        }
      ]
    }
  ]
}